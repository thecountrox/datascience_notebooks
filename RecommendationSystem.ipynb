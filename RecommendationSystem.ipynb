{
  "nbformat": 4,
  "nbformat_minor": 0,
  "metadata": {
    "colab": {
      "provenance": []
    },
    "kernelspec": {
      "name": "python3",
      "display_name": "Python 3"
    },
    "language_info": {
      "name": "python"
    }
  },
  "cells": [
    {
      "cell_type": "code",
      "execution_count": 24,
      "metadata": {
        "id": "syvTy3fgus5j"
      },
      "outputs": [],
      "source": [
        "import pandas as pd\n",
        "from sklearn.preprocessing import OneHotEncoder\n",
        "movies = pd.read_csv('./movies.csv')\n",
        "ratings = pd.read_csv('./ratings.csv')"
      ]
    },
    {
      "cell_type": "code",
      "source": [
        "movies = movies.drop_duplicates() #remove duplicates from dataframe\n",
        "movies"
      ],
      "metadata": {
        "id": "LBi8ZchhKXHF"
      },
      "execution_count": 19,
      "outputs": []
    },
    {
      "cell_type": "code",
      "source": [
        "enc = OneHotEncoder(handle_unknown='ignore') # create onehotencoder context\n",
        "enc.fit(pd.DataFrame(movies['genres']))\n",
        "encoded_df = enc.transform(pd.DataFrame(movies['genres']))\n",
        "print(pd.DataFrame(encoded_df))"
      ],
      "metadata": {
        "id": "MZ10JrxB_v4u",
        "outputId": "977dab6b-1cb3-476e-a7b3-0e0f179ac51a",
        "colab": {
          "base_uri": "https://localhost:8080/"
        }
      },
      "execution_count": 36,
      "outputs": [
        {
          "output_type": "stream",
          "name": "stdout",
          "text": [
            "                     0\n",
            "0        (0, 337)\\t1.0\n",
            "1        (0, 395)\\t1.0\n",
            "2        (0, 697)\\t1.0\n",
            "3        (0, 650)\\t1.0\n",
            "4        (0, 600)\\t1.0\n",
            "...                ...\n",
            "10324    (0, 499)\\t1.0\n",
            "10325    (0, 600)\\t1.0\n",
            "10326    (0, 600)\\t1.0\n",
            "10327    (0, 779)\\t1.0\n",
            "10328      (0, 0)\\t1.0\n",
            "\n",
            "[10329 rows x 1 columns]\n"
          ]
        }
      ]
    },
    {
      "cell_type": "code",
      "source": [
        "# we focus on solutions not problems yessir\n"
      ],
      "metadata": {
        "id": "4F9Tu70kMfoq"
      },
      "execution_count": null,
      "outputs": []
    }
  ]
}